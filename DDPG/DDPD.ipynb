{
 "cells": [
  {
   "cell_type": "code",
   "execution_count": 1,
   "metadata": {
    "collapsed": true
   },
   "outputs": [],
   "source": [
    "import numpy as np\n",
    "import matplotlib.pyplot as plt"
   ]
  },
  {
   "cell_type": "markdown",
   "metadata": {},
   "source": [
    "## Policy"
   ]
  },
  {
   "cell_type": "code",
   "execution_count": 5,
   "metadata": {
    "collapsed": true
   },
   "outputs": [],
   "source": [
    "from src.faithnet import network\n",
    "import tensorflow as tf\n",
    "import gym"
   ]
  },
  {
   "cell_type": "code",
   "execution_count": 8,
   "metadata": {
    "collapsed": true
   },
   "outputs": [],
   "source": [
    "class replay_stacker():\n",
    "    def __init__(self, columns, window_length=100):\n",
    "        self._data = np.zeros((window_length, columns))\n",
    "        self.capacity = window_length\n",
    "        self.size = 0\n",
    "        self.columns = columns\n",
    "\n",
    "    def update(self, x):\n",
    "        self._add(x)\n",
    "\n",
    "    def _add(self, x):\n",
    "        if self.size == self.capacity:\n",
    "            self._data = np.roll(self._data, -1)\n",
    "            self._data[self.size-1, :] = x\n",
    "        else:\n",
    "            self._data[self.size, :] = x\n",
    "            self.size += 1\n",
    "\n",
    "    def data(self):\n",
    "        return self._data[0:self.size, :]\n",
    "\n",
    "\n",
    "class replay_memory_agent():\n",
    "    def __init__(self, states_len, replay_window):\n",
    "        self.states_len = states_len\n",
    "        self.replay_window = replay_window\n",
    "\n",
    "        # Initialize replay memory\n",
    "        self.replay_memory = {'states': replay_stacker(self.states_len, self.replay_window),\n",
    "                              'states_new': replay_stacker(self.states_len,self.replay_window),\n",
    "                              'rewards': replay_stacker(1,self.replay_window),\n",
    "                              'actions': replay_stacker(1,self.replay_window),\n",
    "                              'terminal': replay_stacker(1,self.replay_window)}\n",
    "\n",
    "    def replay_memory_update(self,\n",
    "                             states,\n",
    "                             states_new,\n",
    "                             rewards,\n",
    "                             actions,\n",
    "                             terminal):\n",
    "\n",
    "        self.replay_memory['rewards'].update(rewards)\n",
    "        self.replay_memory['states'].update(states)\n",
    "        self.replay_memory['states_new'].update(states_new)\n",
    "        self.replay_memory['actions'].update(actions)\n",
    "        self.replay_memory['terminal'].update(terminal)\n",
    "\n",
    "\n",
    "def randombatch(sample_size, replay_size):\n",
    "    indx = np.linspace(0, replay_size-1, sample_size)\n",
    "    indx = np.random.choice(indx, sample_size, replace=False)\n",
    "    indx.tolist()\n",
    "    indx = list(map(int, indx))\n",
    "    return indx"
   ]
  },
  {
   "cell_type": "code",
   "execution_count": 3,
   "metadata": {},
   "outputs": [],
   "source": [
    "nn_critic = network(4, 2, [10, 10], 2, tf.Session())\n",
    "nn_actor = network(4, 2, [10, 10], 2, tf.Session())\n",
    "target_nn_critic = network(4, 2, [10, 10], 2, tf.Session())\n",
    "target_nn_actor = network(4, 2, [10, 10], 2, tf.Session())"
   ]
  },
  {
   "cell_type": "code",
   "execution_count": 9,
   "metadata": {},
   "outputs": [
    {
     "name": "stderr",
     "output_type": "stream",
     "text": [
      "[2017-11-23 21:14:46,461] Making new env: CartPole-v1\n"
     ]
    }
   ],
   "source": [
    "target_nn_actor.set_weights(nn_actor.get_weights())\n",
    "target_nn_critic.set_weights(nn_critic.get_weights())\n",
    "env = gym.make(\"CartPole-v1\")\n",
    "replay = replay_memory_agent(4, 10000)"
   ]
  },
  {
   "cell_type": "code",
   "execution_count": null,
   "metadata": {
    "collapsed": true
   },
   "outputs": [],
   "source": [
    "training_state = np.zeros((32, 4))\n",
    "training_new_state = np.zeros((32, 4))\n",
    "training_actions = np.zeros((32, 1))\n",
    "training_rewards = np.zeros((32, 1))\n",
    "training_terminal = np.zeros((32, 1))\n",
    "\n",
    "for i in range(0, 10):\n",
    "    # Reset the environment\n",
    "    done = False\n",
    "    state = env.reset()\n",
    "    state = np.asarray(state)\n",
    "    state = np.reshape(state, (1, 4))\n",
    "    # Exploration\n",
    "    mean = 0.0\n",
    "    deviation = 1.0\n",
    "    while done:\n",
    "        exploration_noise = np.random.normal(mean, deviation)\n",
    "        exploration_noise = exploration_noise.reshape(1, 2)\n",
    "        action = nn_actor.predict_on_batch(state) + exploration_noise\n",
    "        \n",
    "        act = np.argmax(action)\n",
    "        # Take action \n",
    "        new_state, reward, done, _ = env.step(act)\n",
    "        \n",
    "        # Store the transitions\n",
    "        replay.replay_memory_update(state, new_state, reward, act, done)\n",
    "        \n",
    "        # Pick a random batch\n",
    "        indx = randombatch(32, len(replay.replay_memory['states'].data()))\n",
    "        temp_state = replay.replay_memory[\"states\"].data()\n",
    "        training_state = temp_state[indx]\n",
    "        temp_state = replay.replay_memory[\"states_new\"].data()\n",
    "        training_new_state = temp_state[indx]\n",
    "        temp_state = replay.replay_memory[\"actions\"].data()\n",
    "        training_actions = temp_state[indx]\n",
    "        temp_state = replay.replay_memory[\"rewards\"].data()\n",
    "        training_rewards = temp_state[indx]\n",
    "        temp_state = replay.replay_memory[\"terminal\"].data()\n",
    "        training_terminal = temp_state[indx]\n",
    "        \n",
    "        target = nn_critic.predict_on_batch(training_state)\n",
    "        q_values_train_next = \n",
    "        for i in range(32):\n",
    "            action_idx = int(training_actions[i])\n",
    "            if temp_terminal[i]:\n",
    "                target[i][action_idx] = temp_rewards[i]\n",
    "            else:\n",
    "                target[i][action_idx] = temp_rewards[i] + 0.99 * np.amax(q_values_train_next[i])\n"
   ]
  }
 ],
 "metadata": {
  "kernelspec": {
   "display_name": "Python 3",
   "language": "python",
   "name": "python3"
  },
  "language_info": {
   "codemirror_mode": {
    "name": "ipython",
    "version": 3
   },
   "file_extension": ".py",
   "mimetype": "text/x-python",
   "name": "python",
   "nbconvert_exporter": "python",
   "pygments_lexer": "ipython3",
   "version": "3.6.3"
  }
 },
 "nbformat": 4,
 "nbformat_minor": 2
}
