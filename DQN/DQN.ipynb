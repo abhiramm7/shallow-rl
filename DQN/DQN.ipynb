{
 "cells": [
  {
   "cell_type": "code",
   "execution_count": 4,
   "metadata": {
    "collapsed": true
   },
   "outputs": [],
   "source": [
    "from src import network, replay_memory_agent,deep_q_agent, epsi_greedy\n",
    "import numpy as np\n",
    "np.random.seed(42)"
   ]
  },
  {
   "cell_type": "code",
   "execution_count": 5,
   "metadata": {},
   "outputs": [
    {
     "name": "stderr",
     "output_type": "stream",
     "text": [
      "[2017-11-07 22:50:41,325] Making new env: MountainCar-v0\n"
     ]
    }
   ],
   "source": [
    "import gym\n",
    "env = gym.make(\"MountainCar-v0\")"
   ]
  },
  {
   "cell_type": "code",
   "execution_count": null,
   "metadata": {
    "scrolled": false
   },
   "outputs": [
    {
     "name": "stdout",
     "output_type": "stream",
     "text": [
      "-1.0\n",
      "sum\n",
      "-200.0\n",
      "-1.0\n",
      "sum\n",
      "-200.0\n",
      "-1.0\n",
      "sum\n",
      "-200.0\n",
      "-1.0\n",
      "sum\n",
      "-200.0\n",
      "-1.0\n",
      "sum\n",
      "-200.0\n",
      "-1.0\n",
      "sum\n",
      "-200.0\n",
      "-1.0\n",
      "sum\n",
      "-200.0\n",
      "-1.0\n",
      "sum\n",
      "-200.0\n",
      "-1.0\n",
      "sum\n",
      "-200.0\n",
      "-1.0\n",
      "sum\n",
      "-200.0\n",
      "-1.0\n",
      "sum\n",
      "-200.0\n",
      "-1.0\n",
      "sum\n",
      "-200.0\n",
      "-1.0\n",
      "sum\n",
      "-200.0\n",
      "-1.0\n",
      "sum\n",
      "-200.0\n",
      "-1.0\n",
      "sum\n",
      "-200.0\n",
      "-1.0\n",
      "sum\n",
      "-200.0\n",
      "-1.0\n",
      "sum\n",
      "-200.0\n",
      "-1.0\n",
      "sum\n",
      "-200.0\n",
      "-1.0\n",
      "sum\n",
      "-200.0\n",
      "-1.0\n",
      "sum\n",
      "-200.0\n",
      "-1.0\n",
      "sum\n",
      "-200.0\n",
      "-1.0\n",
      "sum\n",
      "-200.0\n",
      "-1.0\n",
      "sum\n",
      "-200.0\n",
      "-1.0\n",
      "sum\n",
      "-200.0\n"
     ]
    }
   ],
   "source": [
    "\n",
    "sess = tf.Session()\n",
    "ac_function = network(2,3, sess)\n",
    "target_function = network(2,3, sess)\n",
    "target_function.set_weights(ac_function)\n",
    "replay = replay_memory_agent(2, 50000)\n",
    "prof_x = deep_q_agent(\n",
    "    ac_function,\n",
    "    target_function,\n",
    "    3,\n",
    "    replay.replay_memory,\n",
    "    epsi_greedy)\n",
    "state = env.reset()\n",
    "# book keeping\n",
    "done=False\n",
    "reward_track = []\n",
    "reward_episode = []\n",
    "episodes = 0\n",
    "epsilon = 1.0\n",
    "for i in range(0, 200000):\n",
    "    # Pick action\n",
    "    state = np.asarray(state)\n",
    "    state = state.reshape(1,2)\n",
    "    q_values = ac_function.predict_on_batch(state)\n",
    "    action = epsi_greedy([0, 1, 2], q_values, epsilon)\n",
    "    # implement action\n",
    "    state_new, reward, done, _ = env.step(action)\n",
    "    reward_episode.append(reward)\n",
    "    # Update the replay memory\n",
    "    replay.replay_memory_update(state, state_new, reward, action, done)\n",
    "    # train\n",
    "\n",
    "    env.render()\n",
    "    if i > 50000:\n",
    "        update = True if i%10000==0 else False\n",
    "        prof_x.train_q(update)\n",
    "        if i%1000 == 0:\n",
    "            epsilon = max(0.10, epsilon - 0.001)\n",
    "    state = state_new\n",
    "    if done:\n",
    "        state = env.reset()\n",
    "        reward_track.append(np.mean(reward_episode))\n",
    "        episodes += 1\n",
    "        if episodes%10 == 0:\n",
    "            print(np.mean(reward_episode))\n",
    "            print(\"sum\")\n",
    "            print(np.sum(reward_episode))\n",
    "        reward_episode = []"
   ]
  },
  {
   "cell_type": "code",
   "execution_count": null,
   "metadata": {},
   "outputs": [],
   "source": [
    "sess = tf.Session()\n",
    "ac_function = network(2,3, sess)\n",
    "target_function = network(2,3, sess)\n",
    "target_function.set_weights(ac_function)\n",
    "replay = replay_memory_agent(2, 10000)\n",
    "prof_x = deep_q_agent(\n",
    "    ac_function,\n",
    "    target_function,\n",
    "    3,\n",
    "    replay.replay_memory,\n",
    "    epsi_greedy)\n",
    "state = env.reset()\n",
    "# book keeping\n",
    "done=False\n",
    "reward_track1 = []\n",
    "reward_episode1 = []\n",
    "epsilon = 0.1\n",
    "for i in range(0, 500000):\n",
    "    # Pick action\n",
    "    state = np.asarray(state)\n",
    "    state = state.reshape(1,2)\n",
    "    q_values = ac_function.predict_on_batch(state)\n",
    "    action = epsi_greedy([0, 1, 2], q_values, epsilon)\n",
    "    # implement action\n",
    "    state_new, reward, done, _ = env.step(action)\n",
    "    reward_episode1.append(reward)\n",
    "    # Update the replay memory\n",
    "    replay.replay_memory_update(state, state_new, reward, action, done)\n",
    "    # train\n",
    "\n",
    "    env.render()\n",
    "    if i > 10001:\n",
    "        update = True if i%10000==0 else False\n",
    "        if update:\n",
    "            print(sum(reward_track))\n",
    "        prof_x.train_q(update)\n",
    "    state = state_new\n",
    "    if done:\n",
    "        state = env.reset()\n",
    "        reward_track1.append(np.sum(reward_episode1))\n",
    "        reward_episode1 = []"
   ]
  },
  {
   "cell_type": "code",
   "execution_count": null,
   "metadata": {
    "collapsed": true
   },
   "outputs": [],
   "source": []
  },
  {
   "cell_type": "code",
   "execution_count": null,
   "metadata": {
    "collapsed": true
   },
   "outputs": [],
   "source": []
  },
  {
   "cell_type": "code",
   "execution_count": null,
   "metadata": {
    "collapsed": true
   },
   "outputs": [],
   "source": []
  }
 ],
 "metadata": {
  "kernelspec": {
   "display_name": "Python 3",
   "language": "python",
   "name": "python3"
  },
  "language_info": {
   "codemirror_mode": {
    "name": "ipython",
    "version": 3
   },
   "file_extension": ".py",
   "mimetype": "text/x-python",
   "name": "python",
   "nbconvert_exporter": "python",
   "pygments_lexer": "ipython3",
   "version": "3.6.3"
  }
 },
 "nbformat": 4,
 "nbformat_minor": 2
}
