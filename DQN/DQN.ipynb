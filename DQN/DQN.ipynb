{
 "cells": [
  {
   "cell_type": "code",
   "execution_count": 1,
   "metadata": {
    "collapsed": true
   },
   "outputs": [
    {
     "name": "stderr",
     "output_type": "stream",
     "text": [
      "[2017-11-18 14:46:26,370] Making new env: CartPole-v0\n"
     ]
    }
   ],
   "source": [
    "from src import network, replay_memory_agent, deep_q_agent, epsi_greedy\n",
    "import numpy as np\n",
    "import tensorflow as tf\n",
    "import gym\n",
    "\n",
    "np.random.seed(42)\n",
    "env = gym.make(\"CartPole-v0\")"
   ]
  },
  {
   "cell_type": "code",
   "execution_count": null,
   "metadata": {},
   "outputs": [],
   "source": [
    "q_nn = network(input_states=4, num_layers=4, nurons_list=[10, 10, 10, 10], output_states=2, session=tf.Session())\n",
    "target_nn = network(input_states=4, num_layers=4, nurons_list=[10, 10, 10, 10], output_states=2, session=q_nn.session)\n",
    "target_nn.set_weights(q_nn.get_weights())"
   ]
  },
  {
   "cell_type": "code",
   "execution_count": null,
   "metadata": {
    "scrolled": false
   },
   "outputs": [
    {
     "name": "stdout",
     "output_type": "stream",
     "text": [
      "34.0\n"
     ]
    }
   ],
   "source": [
    "replay1 = replay_memory_agent(4, 10000)\n",
    "dqn_controller = deep_q_agent(action_value_model=q_nn,\n",
    "                              target_model=target_nn,\n",
    "                              states_len=4,\n",
    "                              replay_memory=replay1)\n",
    "# Book keeping\n",
    "avg_reward_episodes = []\n",
    "\n",
    "# Exploration decay\n",
    "epsilon = np.linspace(1.0, 0.10, 6000)\n",
    "\n",
    "# Global time step\n",
    "gt = 0\n",
    "\n",
    "for episodes in range(0, 6000):\n",
    "    \n",
    "    # Initial State\n",
    "    state = env.reset()\n",
    "    done=False\n",
    "    \n",
    "    # Clear the reward buffer \n",
    "    rewards = []\n",
    "    \n",
    "    while not(done):\n",
    "        gt += 1\n",
    "        \n",
    "        # Reshape the state\n",
    "        state = np.asarray(state)\n",
    "        state = state.reshape(1,4)\n",
    "        \n",
    "        # Pick a action based on the state \n",
    "        q_values = q_nn.predict_on_batch(state)        \n",
    "        action = epsi_greedy([0, 1], q_values, epsilon[episodes])\n",
    "        \n",
    "        # Implement action and observe the reward signal\n",
    "        state_new, reward, done, _ = env.step(action)\n",
    "        rewards.append(reward)\n",
    "        \n",
    "        state_new = np.asarray(state_new)\n",
    "        state_new = state_new.reshape(1,4)\n",
    "        \n",
    "        # Update the replay memory\n",
    "        replay1.replay_memory_update(state, state_new, reward, action, done)\n",
    "    \n",
    "        # Train\n",
    "        update = True if gt%10000==0 else False\n",
    "        dqn_controller.train_q(update)\n",
    "\n",
    "        state = state_new\n",
    "\n",
    "    avg_reward_episodes.append(sum(rewards))\n",
    "    if episodes%1000 == 0:\n",
    "        print(sum(rewards))"
   ]
  },
  {
   "cell_type": "code",
   "execution_count": 11,
   "metadata": {},
   "outputs": [
    {
     "data": {
      "text/plain": [
       "array([[-0.00360247,  0.04456917,  0.04873127, -0.01420509]])"
      ]
     },
     "execution_count": 11,
     "metadata": {},
     "output_type": "execute_result"
    }
   ],
   "source": [
    "replay1.replay_memory['states'].data()"
   ]
  },
  {
   "cell_type": "code",
   "execution_count": null,
   "metadata": {
    "collapsed": true
   },
   "outputs": [],
   "source": []
  },
  {
   "cell_type": "code",
   "execution_count": null,
   "metadata": {
    "collapsed": true
   },
   "outputs": [],
   "source": []
  },
  {
   "cell_type": "code",
   "execution_count": null,
   "metadata": {
    "collapsed": true
   },
   "outputs": [],
   "source": []
  }
 ],
 "metadata": {
  "kernelspec": {
   "display_name": "Python 3",
   "language": "python",
   "name": "python3"
  },
  "language_info": {
   "codemirror_mode": {
    "name": "ipython",
    "version": 3
   },
   "file_extension": ".py",
   "mimetype": "text/x-python",
   "name": "python",
   "nbconvert_exporter": "python",
   "pygments_lexer": "ipython3",
   "version": "3.6.3"
  }
 },
 "nbformat": 4,
 "nbformat_minor": 2
}
