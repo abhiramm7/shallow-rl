{
 "cells": [
  {
   "cell_type": "code",
   "execution_count": 2,
   "metadata": {
    "collapsed": true
   },
   "outputs": [],
   "source": [
    "import tensorflow as tf\n",
    "import numpy as np\n",
    "np.random.seed(42)"
   ]
  },
  {
   "cell_type": "code",
   "execution_count": 31,
   "metadata": {
    "collapsed": true
   },
   "outputs": [],
   "source": [
    "class network():\n",
    "    def __init__(self,\n",
    "                input_states,\n",
    "                output_states,\n",
    "                session):\n",
    "        # Initialize the network\n",
    "        self.state = tf.placeholder(dtype=tf.float64, shape=[None, input_states])\n",
    "        # Layer 1\n",
    "        self.w1 = tf.Variable(np.random.rand(input_states, 64), dtype=tf.float64)\n",
    "        self.b1 = tf.Variable(np.random.rand(64), dtype=tf.float64)\n",
    "        self.z1 = tf.tensordot(self.state, self.w1, axes=1) + self.b1\n",
    "        self.y1 = tf.nn.relu(self.z1)\n",
    "        # Layer 2\n",
    "        self.w2 = tf.Variable(np.random.rand(64, 3), dtype=tf.float64)\n",
    "        self.b2 = tf.Variable(np.random.rand(3), dtype=tf.float64)\n",
    "        self.z2 = tf.tensordot(self.y1, self.w2, axes=1) + self.b2\n",
    "        self.y_t = tf.placeholder(dtype=tf.float64, shape=[None, output_states])\n",
    "        \n",
    "        self.loss = tf.reduce_mean(tf.square(self.z2 - self.y_t))\n",
    "        self.optimizer = tf.train.AdamOptimizer()\n",
    "        self.train = self.optimizer.minimize(self.loss)\n",
    "        \n",
    "        self.sess = session;\n",
    "        self.sess.run(tf.global_variables_initializer())\n",
    "        \n",
    "    def set_weights(self, target):\n",
    "        self.sess.run(self.w1.assign(self.sess.run(target.w1)))\n",
    "        self.sess.run(self.w2.assign(self.sess.run(target.w2)))\n",
    "        self.sess.run(self.b1.assign(self.sess.run(target.b1)))\n",
    "        self.sess.run(self.b2.assign(self.sess.run(target.b2)))\n",
    "        \n",
    "    def predict_on_batch(self, input_x):\n",
    "        return self.sess.run(self.z2, {self.state:input_x})\n",
    "    \n",
    "    def fit(self, x_train, y_train):\n",
    "        self.sess.run(self.train, {self.state:x_train, self.y_t:y_train})"
   ]
  },
  {
   "cell_type": "code",
   "execution_count": 32,
   "metadata": {},
   "outputs": [],
   "source": [
    "a = tf.Session()\n",
    "test1 = network(2,3, a)\n",
    "test2 = network(2,3, a)"
   ]
  },
  {
   "cell_type": "code",
   "execution_count": 33,
   "metadata": {},
   "outputs": [
    {
     "data": {
      "text/plain": [
       "array([[ 0.90177403,  0.20347274,  0.06697361,  0.87735045,  0.38940494,\n",
       "         0.54176096,  0.96806581,  0.06656473,  0.64831801,  0.07410542,\n",
       "         0.37546893,  0.80381455,  0.43347223,  0.99718235,  0.55905928,\n",
       "         0.32116215,  0.22011133,  0.35052053,  0.37253327,  0.06871368,\n",
       "         0.3695742 ,  0.46423852,  0.72273775,  0.65672948,  0.70876566,\n",
       "         0.00836368,  0.2176674 ,  0.66168429,  0.48398937,  0.00531348,\n",
       "         0.80449464,  0.77280957,  0.54841916,  0.06646333,  0.76651505,\n",
       "         0.58371359,  0.78195998,  0.75174699,  0.80300207,  0.51800807,\n",
       "         0.14032452,  0.67115747,  0.62047379,  0.74225319,  0.16988101,\n",
       "         0.1949752 ,  0.89040952,  0.7499778 ,  0.90822849,  0.75871532,\n",
       "         0.59715531,  0.65413274,  0.88912792,  0.57880675,  0.63239132,\n",
       "         0.15647672,  0.47392122,  0.71639711,  0.2709427 ,  0.20225418,\n",
       "         0.31382681,  0.24150063,  0.21491264,  0.42485084],\n",
       "       [ 0.90783851,  0.50705965,  0.18792038,  0.07697167,  0.69615615,\n",
       "         0.38279876,  0.82183095,  0.65951077,  0.79624145,  0.27194604,\n",
       "         0.69235892,  0.26406198,  0.93906848,  0.63637428,  0.3245118 ,\n",
       "         0.26951186,  0.19092659,  0.69464096,  0.21871561,  0.59530327,\n",
       "         0.26463503,  0.66196894,  0.81493973,  0.77802524,  0.76085133,\n",
       "         0.18772241,  0.08838495,  0.69894883,  0.36834721,  0.43234623,\n",
       "         0.03114909,  0.25957645,  0.0336764 ,  0.87918577,  0.24339668,\n",
       "         0.55733717,  0.03897932,  0.66684739,  0.32302735,  0.89791919,\n",
       "         0.88811819,  0.32529062,  0.9009609 ,  0.99615767,  0.82541566,\n",
       "         0.84487135,  0.24900874,  0.5767024 ,  0.06725591,  0.09491794,\n",
       "         0.99889261,  0.32663925,  0.74818391,  0.80666505,  0.85802327,\n",
       "         0.9976283 ,  0.24149649,  0.04035083,  0.41119152,  0.13008067,\n",
       "         0.02242589,  0.36042683,  0.78373825,  0.56618069]])"
      ]
     },
     "execution_count": 33,
     "metadata": {},
     "output_type": "execute_result"
    }
   ],
   "source": [
    "a.run(test1.w1)"
   ]
  },
  {
   "cell_type": "code",
   "execution_count": 34,
   "metadata": {},
   "outputs": [
    {
     "data": {
      "text/plain": [
       "array([[ 0.28104975,  0.17349605,  0.37975152,  0.80144578,  0.39209358,\n",
       "         0.75076965,  0.1254863 ,  0.77277142,  0.23693332,  0.67739313,\n",
       "         0.56578155,  0.92914472,  0.38732252,  0.06616519,  0.01915549,\n",
       "         0.82685856,  0.52473564,  0.77524405,  0.2344256 ,  0.34508375,\n",
       "         0.03010387,  0.96149232,  0.66786791,  0.93320509,  0.26549641,\n",
       "         0.61146361,  0.67849997,  0.3175497 ,  0.84810924,  0.94716146,\n",
       "         0.88485512,  0.73906698,  0.27746468,  0.28161604,  0.96336032,\n",
       "         0.0102845 ,  0.71604997,  0.70624616,  0.62268954,  0.99010885,\n",
       "         0.31187944,  0.33997186,  0.0789394 ,  0.44279814,  0.26104853,\n",
       "         0.3433867 ,  0.83457179,  0.93548451,  0.18573307,  0.37250893,\n",
       "         0.92863056,  0.06180846,  0.09236053,  0.16279099,  0.59521283,\n",
       "         0.15047227,  0.96807638,  0.44671453,  0.50151796,  0.24665862,\n",
       "         0.47096025,  0.66191363,  0.75117714,  0.75386808],\n",
       "       [ 0.57789111,  0.90435977,  0.81740785,  0.75704811,  0.05560552,\n",
       "         0.00687796,  0.21244728,  0.66352359,  0.41119749,  0.40240626,\n",
       "         0.88458689,  0.89556285,  0.90917526,  0.31387808,  0.69105581,\n",
       "         0.27163318,  0.19060983,  0.18463246,  0.34210762,  0.42995762,\n",
       "         0.83094917,  0.11989109,  0.73492585,  0.53145491,  0.28794534,\n",
       "         0.49281958,  0.29994207,  0.59608196,  0.43384392,  0.16440553,\n",
       "         0.11658307,  0.54669568,  0.90241303,  0.34395769,  0.73300011,\n",
       "         0.65866135,  0.93155491,  0.82098102,  0.56660526,  0.6570305 ,\n",
       "         0.89838647,  0.39951878,  0.32679471,  0.01081108,  0.82655107,\n",
       "         0.8009807 ,  0.10445452,  0.57685738,  0.4639817 ,  0.1187091 ,\n",
       "         0.98056823,  0.21469589,  0.06723418,  0.59484738,  0.73886668,\n",
       "         0.03244345,  0.65871764,  0.53229188,  0.10326501,  0.17252388,\n",
       "         0.5679743 ,  0.29635761,  0.93831573,  0.81874023]])"
      ]
     },
     "execution_count": 34,
     "metadata": {},
     "output_type": "execute_result"
    }
   ],
   "source": [
    "a.run(test2.w1)"
   ]
  },
  {
   "cell_type": "code",
   "execution_count": 35,
   "metadata": {},
   "outputs": [],
   "source": [
    "test2.set_weights(test1)"
   ]
  },
  {
   "cell_type": "code",
   "execution_count": 36,
   "metadata": {},
   "outputs": [
    {
     "data": {
      "text/plain": [
       "array([[ 0.,  0.,  0.,  0.,  0.,  0.,  0.,  0.,  0.,  0.,  0.,  0.,  0.,\n",
       "         0.,  0.,  0.,  0.,  0.,  0.,  0.,  0.,  0.,  0.,  0.,  0.,  0.,\n",
       "         0.,  0.,  0.,  0.,  0.,  0.,  0.,  0.,  0.,  0.,  0.,  0.,  0.,\n",
       "         0.,  0.,  0.,  0.,  0.,  0.,  0.,  0.,  0.,  0.,  0.,  0.,  0.,\n",
       "         0.,  0.,  0.,  0.,  0.,  0.,  0.,  0.,  0.,  0.,  0.,  0.],\n",
       "       [ 0.,  0.,  0.,  0.,  0.,  0.,  0.,  0.,  0.,  0.,  0.,  0.,  0.,\n",
       "         0.,  0.,  0.,  0.,  0.,  0.,  0.,  0.,  0.,  0.,  0.,  0.,  0.,\n",
       "         0.,  0.,  0.,  0.,  0.,  0.,  0.,  0.,  0.,  0.,  0.,  0.,  0.,\n",
       "         0.,  0.,  0.,  0.,  0.,  0.,  0.,  0.,  0.,  0.,  0.,  0.,  0.,\n",
       "         0.,  0.,  0.,  0.,  0.,  0.,  0.,  0.,  0.,  0.,  0.,  0.]])"
      ]
     },
     "execution_count": 36,
     "metadata": {},
     "output_type": "execute_result"
    }
   ],
   "source": [
    "a.run(test2.w1) - a.run(test1.w1)"
   ]
  },
  {
   "cell_type": "code",
   "execution_count": 37,
   "metadata": {},
   "outputs": [],
   "source": [
    "q = np.asarray([12, 34, 12, 43, 55, 123])\n",
    "q = q.reshape(3,2)\n",
    "test1.predict_on_batch(q)\n",
    "p = test2.predict_on_batch(q)"
   ]
  },
  {
   "cell_type": "code",
   "execution_count": 38,
   "metadata": {},
   "outputs": [],
   "source": [
    "test1.fit(q, p)"
   ]
  },
  {
   "cell_type": "code",
   "execution_count": null,
   "metadata": {
    "collapsed": true
   },
   "outputs": [],
   "source": []
  }
 ],
 "metadata": {
  "kernelspec": {
   "display_name": "Python 3",
   "language": "python",
   "name": "python3"
  },
  "language_info": {
   "codemirror_mode": {
    "name": "ipython",
    "version": 3
   },
   "file_extension": ".py",
   "mimetype": "text/x-python",
   "name": "python",
   "nbconvert_exporter": "python",
   "pygments_lexer": "ipython3",
   "version": "3.6.2"
  }
 },
 "nbformat": 4,
 "nbformat_minor": 2
}
