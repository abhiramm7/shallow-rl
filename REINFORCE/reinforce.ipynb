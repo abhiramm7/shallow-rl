{
 "cells": [
  {
   "cell_type": "code",
   "execution_count": 2,
   "metadata": {
    "collapsed": true
   },
   "outputs": [],
   "source": [
    "import torch\n",
    "from torch.autograd import Variable"
   ]
  },
  {
   "cell_type": "code",
   "execution_count": 3,
   "metadata": {},
   "outputs": [
    {
     "data": {
      "text/plain": [
       "<torch._C.Generator at 0x10714d360>"
      ]
     },
     "execution_count": 3,
     "metadata": {},
     "output_type": "execute_result"
    }
   ],
   "source": [
    "dtype = torch.FloatTensor\n",
    "torch.manual_seed(42)"
   ]
  },
  {
   "cell_type": "code",
   "execution_count": 4,
   "metadata": {
    "collapsed": true
   },
   "outputs": [],
   "source": [
    "# Create a test network"
   ]
  },
  {
   "cell_type": "code",
   "execution_count": 7,
   "metadata": {
    "collapsed": true
   },
   "outputs": [],
   "source": [
    "w1 = Variable(torch.randn(1,10).type(dtype), requires_grad=True)\n",
    "b1 = Variable(torch.randn(10).type(dtype), requires_grad=True)\n",
    "\n",
    "out_layer_w = Variable(torch.randn(10,6).type(dtype), requires_grad=True)\n",
    "out_layer_b = Variable(torch.randn(6).type(dtype), requires_grad=True)"
   ]
  },
  {
   "cell_type": "code",
   "execution_count": 6,
   "metadata": {},
   "outputs": [
    {
     "name": "stderr",
     "output_type": "stream",
     "text": [
      "[2017-12-13 13:43:41,851] Making new env: CartPole-v0\n"
     ]
    }
   ],
   "source": [
    "import gym\n",
    "env = gym.make(\"CartPole-v0\")"
   ]
  },
  {
   "cell_type": "code",
   "execution_count": null,
   "metadata": {
    "collapsed": true
   },
   "outputs": [],
   "source": [
    "episode_count = 0\n",
    "epidode_duration = 0\n",
    "\n",
    "while episode_count < 10:\n",
    "    \n",
    "    data = {}\n",
    "    data[\"state\"] = []\n",
    "    data[\"action\"] = []\n",
    "    data[\"reward\"] = []\n",
    "    data[\"terminal\"] = []\n",
    "    \n",
    "    state = env.reset()\n",
    "    \n",
    "    # Repeat for one episode \n",
    "    while episode_duration < 200 and not done:\n",
    "        \n",
    "        # Look at state and pick a action\n",
    "        # Forward pass\n",
    "        z1 = torch.mm(state, w1) + b1\n",
    "        y1 = torch.clamp(z1, min=0.00)\n",
    "        \n",
    "        z_out = torch.mm(y1, out_layer_w) + out_layer_b\n",
    "        y = torch.\n",
    "        \n",
    "    "
   ]
  }
 ],
 "metadata": {
  "kernelspec": {
   "display_name": "Python 3",
   "language": "python",
   "name": "python3"
  },
  "language_info": {
   "codemirror_mode": {
    "name": "ipython",
    "version": 3
   },
   "file_extension": ".py",
   "mimetype": "text/x-python",
   "name": "python",
   "nbconvert_exporter": "python",
   "pygments_lexer": "ipython3",
   "version": "3.6.3"
  }
 },
 "nbformat": 4,
 "nbformat_minor": 2
}
