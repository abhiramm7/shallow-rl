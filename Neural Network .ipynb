{
 "cells": [
  {
   "cell_type": "code",
   "execution_count": 1,
   "metadata": {
    "collapsed": true
   },
   "outputs": [],
   "source": [
    "import tensorflow as tf\n",
    "import numpy as np"
   ]
  },
  {
   "cell_type": "markdown",
   "metadata": {},
   "source": [
    "# Approximate sine wave"
   ]
  },
  {
   "cell_type": "code",
   "execution_count": 2,
   "metadata": {
    "collapsed": true
   },
   "outputs": [],
   "source": [
    "import numpy as np\n",
    "import matplotlib.pyplot as plt\n",
    "np.random.seed(42)"
   ]
  },
  {
   "cell_type": "code",
   "execution_count": 8,
   "metadata": {},
   "outputs": [
    {
     "data": {
      "image/png": "[encoded data removed]",
      "text/plain": [
       "<matplotlib.figure.Figure at 0x11ca68f98>"
      ]
     },
     "metadata": {},
     "output_type": "display_data"
    }
   ],
   "source": [
    "t = np.linspace(0.0, 360.0, 10000)*(np.pi/180.0)\n",
    "y = np.sin(t)\n",
    "plt.plot(t, y)\n",
    "plt.xlabel(\"Time\")\n",
    "plt.ylabel(\"Magnitude\")\n",
    "plt.show()"
   ]
  },
  {
   "cell_type": "code",
   "execution_count": 9,
   "metadata": {
    "collapsed": true
   },
   "outputs": [],
   "source": [
    "# Set up the network as the tf.estimator"
   ]
  },
  {
   "cell_type": "code",
   "execution_count": 78,
   "metadata": {},
   "outputs": [],
   "source": [
    "state = tf.placeholder(dtype=tf.float64, shape=[None, 1])\n",
    "y_t = tf.placeholder(dtype=tf.float64, shape=[None, 1])\n",
    "# Layer 1\n",
    "w1 = tf.Variable(np.random.rand(1, 20), dtype=tf.float64)\n",
    "b1 = tf.Variable(np.random.rand(20), dtype=tf.float64)\n",
    "z1 = tf.tensordot(state, w1, axes=1) + b1\n",
    "y1 = tf.nn.relu(z1)\n",
    "# Layer 2\n",
    "w2 = tf.Variable(np.random.rand(20, 20), dtype=tf.float64)\n",
    "b2 = tf.Variable(np.random.rand(20), dtype=tf.float64)\n",
    "z2 = tf.tensordot(w2, y1, axes=1) + b2\n",
    "y2 = tf.nn.relu(z1)\n",
    "# Layer 3\n",
    "w3 = tf.Variable(np.random.rand(20, 1), dtype=tf.float64)\n",
    "b3 = tf.Variable(np.random.rand(1), dtype=tf.float64)\n",
    "z2 = tf.tensordot(y2, w3, axes=1) + b3\n",
    "# Loss function\n",
    "loss = tf.reduce_mean(tf.square(z2 - y_t))\n",
    "optimizer = tf.train.AdamOptimizer()\n",
    "train = optimizer.minimize(loss)"
   ]
  },
  {
   "cell_type": "code",
   "execution_count": 79,
   "metadata": {},
   "outputs": [],
   "source": [
    "init = tf.global_variables_initializer()\n",
    "sess = tf.Session()\n",
    "sess.run(init)"
   ]
  },
  {
   "cell_type": "code",
   "execution_count": 80,
   "metadata": {},
   "outputs": [
    {
     "name": "stdout",
     "output_type": "stream",
     "text": [
      "loss: 352.521795672\n",
      "loss: 0.115122863319\n",
      "loss: 0.0028776291612\n",
      "loss: 0.00339037440805\n",
      "loss: 0.00208700975076\n",
      "loss: 0.00188281853965\n",
      "loss: 0.00323745831547\n",
      "loss: 0.00340705305168\n",
      "loss: 0.00270607163514\n",
      "loss: 0.00199394459535\n"
     ]
    }
   ],
   "source": [
    "theta_np = np.linspace(0.0, 360.0, 10000)*((3.14)/180.0)\n",
    "for i in range(100000):\n",
    "    tr = np.random.choice(np.linspace(0, 9999, 9999, dtype=int), 32)\n",
    "    temp = np.asarray([theta_np[i] for i in tr])\n",
    "    temp = temp.reshape(32, 1)\n",
    "    sess.run(train, {state:temp, y_t:np.sin(temp)})\n",
    "    l = sess.run(loss, {state:temp, y_t:np.sin(temp)})\n",
    "    if i%10000 == 0:\n",
    "        print(\"loss: %s\"%(l))"
   ]
  },
  {
   "cell_type": "code",
   "execution_count": 81,
   "metadata": {},
   "outputs": [],
   "source": [
    "theta_np = theta_np.reshape(10000,1)\n",
    "y = sess.run(z2, {state:theta_np})"
   ]
  },
  {
   "cell_type": "code",
   "execution_count": 82,
   "metadata": {},
   "outputs": [
    {
     "data": {
      "image/png": "[encoded data removed]",
      "text/plain": [
       "<matplotlib.figure.Figure at 0x11fc17a58>"
      ]
     },
     "metadata": {},
     "output_type": "display_data"
    }
   ],
   "source": [
    "plt.plot(y)\n",
    "plt.show()"
   ]
  },
  {
   "cell_type": "code",
   "execution_count": null,
   "metadata": {
    "collapsed": true
   },
   "outputs": [],
   "source": []
  }
 ],
 "metadata": {
  "kernelspec": {
   "display_name": "Python 3",
   "language": "python",
   "name": "python3"
  },
  "language_info": {
   "codemirror_mode": {
    "name": "ipython",
    "version": 3
   },
   "file_extension": ".py",
   "mimetype": "text/x-python",
   "name": "python",
   "nbconvert_exporter": "python",
   "pygments_lexer": "ipython3",
   "version": "3.6.3"
  }
 },
 "nbformat": 4,
 "nbformat_minor": 2
}
